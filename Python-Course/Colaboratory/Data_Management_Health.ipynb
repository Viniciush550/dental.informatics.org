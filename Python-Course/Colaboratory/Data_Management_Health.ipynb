{
  "nbformat": 4,
  "nbformat_minor": 0,
  "metadata": {
    "colab": {
      "name": "Data_Mining .ipynb",
      "provenance": [],
      "authorship_tag": "ABX9TyPke1D4WtO5s3qrJra+Qv7G",
      "include_colab_link": true
    },
    "kernelspec": {
      "name": "python3",
      "display_name": "Python 3"
    },
    "language_info": {
      "name": "python"
    }
  },
  "cells": [
    {
      "cell_type": "markdown",
      "metadata": {
        "id": "view-in-github",
        "colab_type": "text"
      },
      "source": [
        "<a href=\"https://colab.research.google.com/github/igoralves1/Dental-Informatics/blob/main/Python-Course/Colaboratory/Data_Management_Health.ipynb\" target=\"_parent\"><img src=\"https://colab.research.google.com/assets/colab-badge.svg\" alt=\"Open In Colab\"/></a>"
      ]
    },
    {
      "cell_type": "markdown",
      "metadata": {
        "id": "v_ay88tmCo0Y"
      },
      "source": [
        "# **Data Managmemt and data Mining for Health Professionals**\n",
        "\n",
        "\n",
        "---\n",
        "Some thext here \n",
        "\n",
        "1. **Loading Data - Importing Files**\n",
        "\n",
        "    *   Load data from local drive\n",
        "    *   Import CSV file from GitHub repository\n",
        "    *   Import JSON file from GitHub repository\n",
        "\n",
        "2. **Header 2**\n",
        "3. **Header 3**\n",
        "4. **Header 4**\n",
        "5. **Header 5**\n",
        "6. **Header 6**\n",
        "7. **References**:\n",
        "\n",
        "\n",
        "\n",
        "\n",
        "* [TutorialPoint-Python Pandas Tutorial](https://www.tutorialspoint.com/python_pandas/index.htm)\n",
        "* [Nbviewer](https://nbviewer.jupyter.org/)\n",
        "* [W3-Pandas Tutorial](https://www.w3schools.com/python/pandas/default.asp)\n",
        "* [3 Ways to Load CSV files into Colab](https://towardsdatascience.com/3-ways-to-load-csv-files-into-colab-7c14fcbdcb92)\n",
        "* [An introduction to JSON](https://towardsdatascience.com/an-introduction-to-json-c9acb464f43e)\n",
        "* [data.world/datasets](https://data.world/datasets/epidemiology)\n",
        "\n",
        "\n"
      ]
    },
    {
      "cell_type": "markdown",
      "metadata": {
        "id": "5zqHr9IFIQX4"
      },
      "source": [
        "***Load data from local drive - CSV***"
      ]
    },
    {
      "cell_type": "code",
      "metadata": {
        "id": "0iuqnLwCIVHQ"
      },
      "source": [
        "from google.colab import files\n",
        "uploaded = files.upload()"
      ],
      "execution_count": null,
      "outputs": []
    },
    {
      "cell_type": "markdown",
      "metadata": {
        "id": "RCWCuWYYFDpa"
      },
      "source": [
        "***Import CSV file from GitHub repository***"
      ]
    },
    {
      "cell_type": "code",
      "metadata": {
        "id": "a7qsolk9E9h8",
        "outputId": "1e402b55-6562-490d-82ac-3585c89ad54b",
        "colab": {
          "base_uri": "https://localhost:8080/",
          "height": 204
        }
      },
      "source": [
        "import pandas as pd\n",
        "data=pd.read_csv('https://raw.githubusercontent.com/igoralves1/scrap2019-ncov/master/1581352943315.csv')\n",
        "data.tail()"
      ],
      "execution_count": 2,
      "outputs": [
        {
          "output_type": "execute_result",
          "data": {
            "text/html": [
              "<div>\n",
              "<style scoped>\n",
              "    .dataframe tbody tr th:only-of-type {\n",
              "        vertical-align: middle;\n",
              "    }\n",
              "\n",
              "    .dataframe tbody tr th {\n",
              "        vertical-align: top;\n",
              "    }\n",
              "\n",
              "    .dataframe thead th {\n",
              "        text-align: right;\n",
              "    }\n",
              "</style>\n",
              "<table border=\"1\" class=\"dataframe\">\n",
              "  <thead>\n",
              "    <tr style=\"text-align: right;\">\n",
              "      <th></th>\n",
              "      <th>Name</th>\n",
              "      <th>Conffirmed</th>\n",
              "      <th>Deaths</th>\n",
              "      <th>Cures</th>\n",
              "    </tr>\n",
              "  </thead>\n",
              "  <tbody>\n",
              "    <tr>\n",
              "      <th>451</th>\n",
              "      <td>西宁</td>\n",
              "      <td>15</td>\n",
              "      <td>15</td>\n",
              "      <td>15</td>\n",
              "    </tr>\n",
              "    <tr>\n",
              "      <th>452</th>\n",
              "      <td>海北州</td>\n",
              "      <td>3</td>\n",
              "      <td>3</td>\n",
              "      <td>3</td>\n",
              "    </tr>\n",
              "    <tr>\n",
              "      <th>453</th>\n",
              "      <td>澳门</td>\n",
              "      <td>10</td>\n",
              "      <td>0</td>\n",
              "      <td>1</td>\n",
              "    </tr>\n",
              "    <tr>\n",
              "      <th>454</th>\n",
              "      <td>西藏</td>\n",
              "      <td>1</td>\n",
              "      <td>0</td>\n",
              "      <td>0</td>\n",
              "    </tr>\n",
              "    <tr>\n",
              "      <th>455</th>\n",
              "      <td>拉萨</td>\n",
              "      <td>1</td>\n",
              "      <td>1</td>\n",
              "      <td>1</td>\n",
              "    </tr>\n",
              "  </tbody>\n",
              "</table>\n",
              "</div>"
            ],
            "text/plain": [
              "    Name  Conffirmed  Deaths  Cures\n",
              "451   西宁          15      15     15\n",
              "452  海北州           3       3      3\n",
              "453   澳门          10       0      1\n",
              "454   西藏           1       0      0\n",
              "455   拉萨           1       1      1"
            ]
          },
          "metadata": {
            "tags": []
          },
          "execution_count": 2
        }
      ]
    },
    {
      "cell_type": "markdown",
      "metadata": {
        "id": "51ddpKrzFq5c"
      },
      "source": [
        "***Import JSON file from GitHub repository***"
      ]
    },
    {
      "cell_type": "code",
      "metadata": {
        "id": "WRt1kuRGFuYk"
      },
      "source": [
        "import pandas as pd\n",
        "data = pd.read_json('https://raw.githubusercontent.com/igoralves1/Dental-Informatics/main/Python-Course/data/example1.json')\n",
        "df_json = pd.DataFrame(data)\n",
        "print(df_json)\n"
      ],
      "execution_count": null,
      "outputs": []
    },
    {
      "cell_type": "markdown",
      "metadata": {
        "id": "zGhrBh8sMq_a"
      },
      "source": [
        "***Import JSON multi level file from GitHub repository***\n",
        "\n",
        "Normalize semi-structured JSON data into a flat table.\n",
        "\n",
        "[pandas.json_normalize](https://pandas.pydata.org/pandas-docs/stable/reference/api/pandas.json_normalize.html#pandas-json-normalize)"
      ]
    },
    {
      "cell_type": "code",
      "metadata": {
        "id": "xrbJSB73MvQg"
      },
      "source": [
        "import pandas as pd\n",
        "data = pd.read_json('https://raw.githubusercontent.com/igoralves1/Dental-Informatics/main/Python-Course/data/example2.json')\n",
        "df_json = pd.DataFrame(data)\n",
        "print(df_json)\n"
      ],
      "execution_count": null,
      "outputs": []
    },
    {
      "cell_type": "code",
      "metadata": {
        "id": "ec8fsrzBSDqi"
      },
      "source": [
        "import pandas as pd\n",
        "data = [{'id': 1, 'name': {'first': 'Coleen', 'last': 'Volk'}},\n",
        "        {'name': {'given': 'Mose', 'family': 'Regner'}},\n",
        "        {'id': 2, 'name': 'Faye Raker'}]\n",
        "pd.json_normalize(data)"
      ],
      "execution_count": null,
      "outputs": []
    },
    {
      "cell_type": "code",
      "metadata": {
        "id": "SWWyUL31SWy5"
      },
      "source": [
        "import pandas as pd\n",
        "data = [{'id': 1, 'name': {'first': 'Coleen', 'last': 'Volk'}},\n",
        "        {'name': {'given': 'Mose', 'family': 'Regner'}},\n",
        "        {'id': 2, 'name': 'Faye Raker'}]\n",
        "pd.json_normalize(data, max_level=0)"
      ],
      "execution_count": null,
      "outputs": []
    },
    {
      "cell_type": "code",
      "metadata": {
        "id": "zwNIC7YFTmQu"
      },
      "source": [
        "import pandas as pd\n",
        "data = [{'id': 1, 'name': {'first': 'Coleen', 'last': 'Volk'}},\n",
        "        {'name': {'given': 'Mose', 'family': 'Regner'}},\n",
        "        {'id': 2, 'name': 'Faye Raker'}]\n",
        "pd.json_normalize(data, max_level=1)"
      ],
      "execution_count": null,
      "outputs": []
    },
    {
      "cell_type": "code",
      "metadata": {
        "id": "XCdbfI4GWafK"
      },
      "source": [
        "import pandas as pd\n",
        "data = [\n",
        "   {\n",
        "      \"state\":\"Florida\",\n",
        "      \"shortname\":\"FL\",\n",
        "      \"info\":{\n",
        "         \"governor\":\"Rick Scott\"\n",
        "      },\n",
        "      \"counties\":[\n",
        "         {\n",
        "            \"name\":\"Dade\",\n",
        "            \"population\":12345\n",
        "         },\n",
        "         {\n",
        "            \"name\":\"Broward\",\n",
        "            \"population\":40000\n",
        "         },\n",
        "         {\n",
        "            \"name\":\"Palm Beach\",\n",
        "            \"population\":60000\n",
        "         }\n",
        "      ]\n",
        "   },\n",
        "   {\n",
        "      \"state\":\"Ohio\",\n",
        "      \"shortname\":\"OH\",\n",
        "      \"info\":{\n",
        "         \"governor\":\"John Kasich\"\n",
        "      },\n",
        "      \"counties\":[\n",
        "         {\n",
        "            \"name\":\"Summit\",\n",
        "            \"population\":1234\n",
        "         },\n",
        "         {\n",
        "            \"name\":\"Cuyahoga\",\n",
        "            \"population\":1337\n",
        "         }\n",
        "      ]\n",
        "   }\n",
        "]\n",
        "# data = pd.read_json('https://raw.githubusercontent.com/igoralves1/Dental-Informatics/main/Python-Course/data/example3.json')\n",
        "# pd.DataFrame(data)\n",
        "pd.json_normalize(data, max_level=0)\n",
        "\n"
      ],
      "execution_count": null,
      "outputs": []
    },
    {
      "cell_type": "markdown",
      "metadata": {
        "id": "l0Haiqo62S8-"
      },
      "source": [
        "## ***Summary Statistics***\n",
        "\n",
        "\n",
        "---\n",
        "\n"
      ]
    },
    {
      "cell_type": "markdown",
      "metadata": {
        "id": "93epzJ412hYI"
      },
      "source": [
        "***Import JSON multi level file from GitHub repository***\n",
        "\n",
        "Normalize semi-structured JSON data into a flat table.\n",
        "\n",
        "[pandas.json_normalize](https://pandas.pydata.org/pandas-docs/stable/reference/api/pandas.json_normalize.html#pandas-json-normalize)"
      ]
    },
    {
      "cell_type": "code",
      "metadata": {
        "id": "2ciKKiMg3Rul"
      },
      "source": [
        "import pandas as pd\n",
        "data=pd.read_csv('https://gist.githubusercontent.com/michhar/2dfd2de0d4f8727f873422c5d959fff5/raw/fa71405126017e6a37bea592440b4bee94bf7b9e/titanic.csv')\n",
        "data"
      ],
      "execution_count": null,
      "outputs": []
    },
    {
      "cell_type": "code",
      "metadata": {
        "id": "tpFPathg4Lxk"
      },
      "source": [
        "data.head()"
      ],
      "execution_count": null,
      "outputs": []
    },
    {
      "cell_type": "code",
      "metadata": {
        "id": "78F6iCly4Puq"
      },
      "source": [
        "data.tail()"
      ],
      "execution_count": null,
      "outputs": []
    },
    {
      "cell_type": "code",
      "metadata": {
        "id": "0yVHZR1T35ZG"
      },
      "source": [
        "data[\"Age\"]"
      ],
      "execution_count": null,
      "outputs": []
    },
    {
      "cell_type": "code",
      "metadata": {
        "id": "-V3OdXBCCADN"
      },
      "source": [
        "import pandas as pd\n",
        "data=pd.read_csv('https://gist.githubusercontent.com/michhar/2dfd2de0d4f8727f873422c5d959fff5/raw/fa71405126017e6a37bea592440b4bee94bf7b9e/titanic.csv')\n",
        "data"
      ],
      "execution_count": null,
      "outputs": []
    }
  ]
}