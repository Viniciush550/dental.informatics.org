{
  "nbformat": 4,
  "nbformat_minor": 2,
  "metadata": {
    "colab": {
      "name": "Basic_Operators.ipynb",
      "provenance": [],
      "authorship_tag": "ABX9TyPAw1rc4ONJoNNx00JLq9H4",
      "include_colab_link": true
    },
    "kernelspec": {
      "name": "python3",
      "display_name": "Python 3.8.3 64-bit ('base': conda)"
    },
    "language_info": {
      "name": "python",
      "version": "3.8.3",
      "mimetype": "text/x-python",
      "codemirror_mode": {
        "name": "ipython",
        "version": 3
      },
      "pygments_lexer": "ipython3",
      "nbconvert_exporter": "python",
      "file_extension": ".py"
    },
    "interpreter": {
      "hash": "93018a1e30156ec3164ca569860776da3313d815f5bf8b093c9403ae50780471"
    }
  },
  "cells": [
    {
      "cell_type": "markdown",
      "source": [
        "<a href=\"https://colab.research.google.com/github/dental-informatics-org/dental.informatics.org/blob/main/Python_Course/Basic_Operators.ipynb\" target=\"_parent\"><img src=\"https://colab.research.google.com/assets/colab-badge.svg\" alt=\"Open In Colab\"/></a>"
      ],
      "metadata": {
        "id": "view-in-github",
        "colab_type": "text"
      }
    },
    {
      "cell_type": "markdown",
      "source": [
        "# 1. Evaluating expressions\n",
        "\n",
        "An expression is a combination of values, variables, operators, and calls to functions. If you type an expression at the Python prompt, the interpreter **evaluates** it and displays the result:\n",
        "\n"
      ],
      "metadata": {}
    },
    {
      "cell_type": "code",
      "execution_count": 4,
      "source": [
        "1+1"
      ],
      "outputs": [
        {
          "output_type": "execute_result",
          "data": {
            "text/plain": [
              "5"
            ]
          },
          "metadata": {},
          "execution_count": 4
        }
      ],
      "metadata": {}
    },
    {
      "cell_type": "code",
      "execution_count": null,
      "source": [
        "len(\"Hello\")"
      ],
      "outputs": [],
      "metadata": {}
    },
    {
      "cell_type": "markdown",
      "source": [],
      "metadata": {}
    },
    {
      "cell_type": "markdown",
      "source": [
        "In this example ***len*** is a built-in Python function that returns the number of characters in a string. We’ve previously seen the ***print*** and the ***type*** functions, so this is our third example of a function!\n",
        "\n",
        "The evaluation of an expression produces a value, which is why expressions can appear on the right hand side of assignment statements. A value all by itself is a simple expression, and so is a variable."
      ],
      "metadata": {}
    },
    {
      "cell_type": "code",
      "execution_count": null,
      "source": [
        "17"
      ],
      "outputs": [],
      "metadata": {}
    },
    {
      "cell_type": "code",
      "execution_count": 5,
      "source": [
        "y = 3.14\n",
        "x = len(\"Hello\")\n",
        "print(x,y)"
      ],
      "outputs": [
        {
          "output_type": "stream",
          "name": "stdout",
          "text": [
            "5 3.14\n"
          ]
        }
      ],
      "metadata": {}
    },
    {
      "cell_type": "markdown",
      "source": [
        "# 2. Operators and operands\n",
        "\n",
        "**Operators** are special tokens that represent computations like addition, multiplication and division. The values the operator uses are called **operands**.\n",
        "\n",
        "The following are all legal Python expressions whose meaning is more or less clear:\n",
        "\n",
        "``` \n",
        "20+32   hour-1   hour*60+minute   minute/60   5**2   (5+9)*(15-7)\n",
        "```"
      ],
      "metadata": {}
    },
    {
      "cell_type": "markdown",
      "source": [
        "The tokens +, -, and *, and the use of parenthesis for grouping, mean in Python what they mean in mathematics. The asterisk (*) is the token for multiplication, and ** is the token for exponentiation."
      ],
      "metadata": {}
    },
    {
      "cell_type": "code",
      "execution_count": 7,
      "source": [
        "2 ** 3"
      ],
      "outputs": [
        {
          "output_type": "execute_result",
          "data": {
            "text/plain": [
              "17"
            ]
          },
          "metadata": {},
          "execution_count": 7
        }
      ],
      "metadata": {}
    },
    {
      "cell_type": "code",
      "execution_count": null,
      "source": [
        "3 ** 2"
      ],
      "outputs": [],
      "metadata": {}
    },
    {
      "cell_type": "markdown",
      "source": [
        "When a variable name appears in the place of an operand, it is replaced with its value before the operation is performed.\n",
        "\n",
        "Addition, subtraction, multiplication, and exponentiation all do what you expect.\n",
        "\n",
        "Example: so let us convert 645 minutes into hour"
      ],
      "metadata": {}
    },
    {
      "cell_type": "code",
      "execution_count": 8,
      "source": [
        "minutes = 645\n",
        "hours = minutes / 60\n",
        "hours"
      ],
      "outputs": [
        {
          "output_type": "execute_result",
          "data": {
            "text/plain": [
              "10.75"
            ]
          },
          "metadata": {},
          "execution_count": 8
        }
      ],
      "metadata": {}
    },
    {
      "cell_type": "markdown",
      "source": [
        "Oops! In Python 3, the division operator / always yields a floating point result. What we might have wanted to know was how many whole hours there are, and how many minutes remain. Python gives us two different flavors of the division operator. The second, called **floor division** uses the token //. Its result is always a whole number — and if it has to adjust the number it always moves it to the left on the number line. So ***6 // 4*** yields 1, but ***-6 // 4*** might surprise you!"
      ],
      "metadata": {}
    },
    {
      "cell_type": "code",
      "execution_count": 10,
      "source": [
        "7 / 4"
      ],
      "outputs": [
        {
          "output_type": "execute_result",
          "data": {
            "text/plain": [
              "1.75"
            ]
          },
          "metadata": {},
          "execution_count": 10
        }
      ],
      "metadata": {}
    },
    {
      "cell_type": "code",
      "execution_count": 11,
      "source": [
        "7 // 4"
      ],
      "outputs": [
        {
          "output_type": "execute_result",
          "data": {
            "text/plain": [
              "1"
            ]
          },
          "metadata": {},
          "execution_count": 11
        }
      ],
      "metadata": {}
    },
    {
      "cell_type": "code",
      "execution_count": 9,
      "source": [
        "minutes = 645\n",
        "hours = minutes // 60\n",
        "hours"
      ],
      "outputs": [
        {
          "output_type": "execute_result",
          "data": {
            "text/plain": [
              "10"
            ]
          },
          "metadata": {},
          "execution_count": 9
        }
      ],
      "metadata": {}
    },
    {
      "cell_type": "markdown",
      "source": [
        "Take care that you choose the correct flavor of the division operator. If you’re working with expressions where you need floating point values, use the division operator that does the division accurately."
      ],
      "metadata": {}
    },
    {
      "cell_type": "markdown",
      "source": [
        "# 3. Type converter functions\n",
        "\n",
        "Here we’ll look at three more Python functions, ***int***, ***float*** and ***str***, which will (attempt to) convert their arguments into types ***int***, ***float*** and ***str*** respectively. We call these type converter functions.\n",
        "\n",
        "The ***int*** function can take a floating point number or a ***string***, and turn it into an ***int***. For floating point numbers, it discards the decimal portion of the number — a process we call truncation towards zero on the number line. Let us see this in action:"
      ],
      "metadata": {}
    },
    {
      "cell_type": "code",
      "execution_count": null,
      "source": [
        "int(3.14)"
      ],
      "outputs": [],
      "metadata": {}
    },
    {
      "cell_type": "code",
      "execution_count": null,
      "source": [
        "int(3.9999) # This doesn't round to the closest int!"
      ],
      "outputs": [],
      "metadata": {}
    },
    {
      "cell_type": "code",
      "execution_count": null,
      "source": [
        "int(3.0)"
      ],
      "outputs": [],
      "metadata": {}
    },
    {
      "cell_type": "code",
      "execution_count": null,
      "source": [
        "int(-3.9999) # Note that the result is closer to zero"
      ],
      "outputs": [],
      "metadata": {}
    },
    {
      "cell_type": "code",
      "execution_count": null,
      "source": [
        "int(minutes / 60)"
      ],
      "outputs": [],
      "metadata": {}
    },
    {
      "cell_type": "code",
      "execution_count": null,
      "source": [
        "int('12345') # Parse a string to produce an int"
      ],
      "outputs": [],
      "metadata": {}
    },
    {
      "cell_type": "code",
      "execution_count": null,
      "source": [
        "int(17) # It even works if arg is already an int"
      ],
      "outputs": [],
      "metadata": {}
    },
    {
      "cell_type": "code",
      "execution_count": null,
      "source": [
        "int('23 bottles')"
      ],
      "outputs": [],
      "metadata": {}
    },
    {
      "cell_type": "markdown",
      "source": [
        "This last case doesn’t look like a number — what do we expect?\n",
        "\n",
        "```\n",
        "Traceback (most recent call last):\n",
        "File \"<interactive input>\", line 1, in <module>\n",
        "ValueError: invalid literal for int() with base 10: '23 bottles'\n",
        "\n",
        "```"
      ],
      "metadata": {}
    },
    {
      "cell_type": "markdown",
      "source": [
        "The type converter ***float*** can turn an ***integer***, a float, or a syntactically legal string into a float:"
      ],
      "metadata": {}
    },
    {
      "cell_type": "code",
      "execution_count": null,
      "source": [
        "float(17)"
      ],
      "outputs": [],
      "metadata": {}
    },
    {
      "cell_type": "code",
      "execution_count": null,
      "source": [
        "float(\"123.45\")"
      ],
      "outputs": [],
      "metadata": {}
    },
    {
      "cell_type": "markdown",
      "source": [
        "The type converter str turns its argument into a string:"
      ],
      "metadata": {}
    },
    {
      "cell_type": "code",
      "execution_count": null,
      "source": [
        "str(17)"
      ],
      "outputs": [],
      "metadata": {}
    },
    {
      "cell_type": "code",
      "execution_count": null,
      "source": [
        "str(123.45)"
      ],
      "outputs": [],
      "metadata": {}
    },
    {
      "cell_type": "markdown",
      "source": [
        "# Order of operators\n",
        "\n",
        "When more than one operator appears in an expression, the order of evaluation depends on the **rules of precedence**. Python follows the same precedence rules for its mathematical operators that mathematics does. The acronym PEMDAS is a useful way to remember the order of operations:\n",
        "\n",
        "**P**arentheses have the highest precedence and can be used to force an expression to evaluate in the order you want. Since expressions in parentheses are evaluated first, ***2 * (3-1)*** is 4, and ***(1+1) ** (5-2)*** is 8. You can also use parentheses to make an expression easier to read, as in ***(minute * 100) / 60***, even though it doesn’t change the result.\n",
        "\n",
        "**E**xponentiation has the next highest precedence, so ***2 ** 1+1*** is 3 and not 4, and ***3 * 1 ** 3*** is 3 and not 27.\n",
        "\n",
        "**M**ultiplication and both **D**ivision operators have the same precedence, which is higher than Addition and Subtraction, which also have the same precedence. So ***2 * 3 - 1*** yields 5 rather than 4, and ***5-2 * 2*** is 1, not 6.\n",
        "\n",
        "Operators with the ***same*** precedence are evaluated from left-to-right. In algebra we say they are left-associative. So in the expression ***6 - 3 + 2***, the subtraction happens first, yielding 3. We then add 2 to get the result 5. If the operations had been evaluated from right to left, the result would have been ***6 - (3 + 2)***, which is 1. (The acronym PEDMAS could mislead you to thinking that division has higher precedence than multiplication, and addition is done ahead of subtraction - don’t be misled. Subtraction and addition are at the same precedence, and the left-to-right rule applies.)\n",
        "\n",
        "> Due to some historical quirk, an exception to the left-to-right left-associative rule is the exponentiation operator **, so a useful hint is to always use parentheses to force exactly the order you want when exponentiation is involved:"
      ],
      "metadata": {}
    },
    {
      "cell_type": "code",
      "execution_count": null,
      "source": [
        "2 ** 3 ** 2 # The right-most ** operator gets done first!"
      ],
      "outputs": [],
      "metadata": {}
    },
    {
      "cell_type": "code",
      "execution_count": null,
      "source": [
        "(2 ** 3) ** 2"
      ],
      "outputs": [],
      "metadata": {}
    },
    {
      "cell_type": "markdown",
      "source": [
        "The immediate mode command prompt of Python is great for exploring and experimenting with expressions like this."
      ],
      "metadata": {}
    },
    {
      "cell_type": "markdown",
      "source": [
        "# 4. Operations on strings\n",
        "\n",
        "In general, you cannot perform mathematical operations on strings, even if the strings look like numbers. The following are illegal (assuming that message has type string):"
      ],
      "metadata": {}
    },
    {
      "cell_type": "code",
      "execution_count": null,
      "source": [
        "message - 1        # Error\n",
        "\"Hello\" / 123      # Error\n",
        "message * \"Hello\"  # Error\n",
        "\"15\" + 2           # Error"
      ],
      "outputs": [],
      "metadata": {}
    },
    {
      "cell_type": "markdown",
      "source": [
        "Interestingly, the + operator does work with strings, but for strings, the + operator represents concatenation, not addition. **Concatenation** means joining the two operands by linking them end-to-end. For example:"
      ],
      "metadata": {}
    },
    {
      "cell_type": "code",
      "execution_count": 13,
      "source": [
        "fruit = \"banana\"\n",
        "baked_good = \" nut bread\"\n",
        "print(fruit + baked_good)\n"
      ],
      "outputs": [
        {
          "output_type": "stream",
          "name": "stdout",
          "text": [
            "banana nut bread\n"
          ]
        }
      ],
      "metadata": {}
    },
    {
      "cell_type": "markdown",
      "source": [
        "The output of this program is ***banana nut bread***. The space before the word nut is part of the string, and is necessary to produce the space between the concatenated strings.\n",
        "\n",
        "The * operator also works on strings; it performs repetition. For example, ***'Fun' * 3 is 'FunFunFun'***. One of the operands has to be a string; the other has to be an integer.\n",
        "\n",
        "On one hand, this interpretation of + and * makes sense by analogy with addition and multiplication. Just as ***4 * 3*** is equivalent to ***4 + 4 + 4***, we expect ***\"Fun\" * 3*** to be the same as ***\"Fun\" + \"Fun\" + \"Fun\"***, and it is. On the other hand, there is a significant way in which string concatenation and repetition are different from integer addition and multiplication. Can you think of a property that addition and multiplication have that string concatenation and repetition do not?"
      ],
      "metadata": {}
    },
    {
      "cell_type": "markdown",
      "source": [
        "# 5. Input\n",
        "\n",
        "There is a built-in function in Python for getting input from the user:"
      ],
      "metadata": {}
    },
    {
      "cell_type": "code",
      "execution_count": null,
      "source": [
        "n = input(\"Please enter your name: \")"
      ],
      "outputs": [],
      "metadata": {}
    },
    {
      "cell_type": "markdown",
      "source": [
        "A sample run of this script in PyScripter would pop up a dialog window like this:\n",
        "\n",
        "<br>\n",
        "\n",
        "![image](https://openbookproject.net/thinkcs/python/english3e/_images/enter_name_dialog.png)\n",
        "\n",
        "The user of the program can enter the name and click **OK**, and when this happens the text that has been entered is returned from the input function, and in this case assigned to the variable n.\n",
        "\n",
        "Even if you asked the user to enter their age, you would get back a string like \"17\". It would be your job, as the programmer, to convert that string into a int or a float, using the int or float converter functions we saw earlier.\n"
      ],
      "metadata": {}
    },
    {
      "cell_type": "markdown",
      "source": [
        "# 6. Composition\n",
        "\n",
        "So far, we have looked at the elements of a program — variables, expressions, statements, and function calls — in isolation, without talking about how to combine them.\n",
        "\n",
        "One of the most useful features of programming languages is their ability to take small building blocks and **compose** them into larger chunks.\n",
        "\n",
        "For example, we know how to get the user to enter some input, we know how to convert the string we get into a float, we know how to write a complex expression, and we know how to print values. Let’s put these together in a small four-step program that asks the user to input a value for the radius of a circle, and then computes the area of the circle from the formula\n",
        "\n",
        "<br>\n",
        "\n",
        "![image](https://openbookproject.net/thinkcs/python/english3e/_images/circle_area.png)\n",
        "\n",
        "<br>\n",
        "\n",
        "Firstly, we’ll do the four steps one at a time:"
      ],
      "metadata": {}
    },
    {
      "cell_type": "code",
      "execution_count": 14,
      "source": [
        "response = input(\"What is your radius? \")\n",
        "r = float(response)\n",
        "area = 3.14159 * r**2\n",
        "print(\"The area is \", area)"
      ],
      "outputs": [
        {
          "output_type": "stream",
          "name": "stdout",
          "text": [
            "The area is  314.159\n"
          ]
        }
      ],
      "metadata": {}
    },
    {
      "cell_type": "markdown",
      "source": [
        "Now let’s compose the first two lines into a single line of code, and compose the second two lines into another line of code."
      ],
      "metadata": {}
    },
    {
      "cell_type": "code",
      "execution_count": 15,
      "source": [
        "r = float( input(\"What is your radius? \") )\n",
        "print(\"The area is \", 3.14159 * r**2)"
      ],
      "outputs": [
        {
          "output_type": "stream",
          "name": "stdout",
          "text": [
            "The area is  346.3602975\n"
          ]
        }
      ],
      "metadata": {}
    },
    {
      "cell_type": "markdown",
      "source": [
        "If we really wanted to be tricky, we could write it all in one statement:"
      ],
      "metadata": {}
    },
    {
      "cell_type": "code",
      "execution_count": 16,
      "source": [
        "print(\"The area is \", 3.14159*float(input(\"What is your radius?\"))**2)\n"
      ],
      "outputs": [
        {
          "output_type": "stream",
          "name": "stdout",
          "text": [
            "The area is  314.159\n"
          ]
        }
      ],
      "metadata": {}
    },
    {
      "cell_type": "markdown",
      "source": [
        "Such compact code may not be most understandable for humans, but it does illustrate how we can compose bigger chunks from our building blocks.\n",
        "\n",
        "If you’re ever in doubt about whether to compose code or fragment it into smaller steps, try to make it as simple as you can for the human to follow. My choice would be the first case above, with four separate steps."
      ],
      "metadata": {}
    },
    {
      "cell_type": "markdown",
      "source": [
        "# 7. The modulus operator\n",
        "\n",
        "The **modulus operator** works on integers (and integer expressions) and gives the remainder when the first number is divided by the second. In Python, the modulus operator is a percent sign (%). The syntax is the same as for other operators. It has the same precedence as the multiplication operator."
      ],
      "metadata": {}
    },
    {
      "cell_type": "code",
      "execution_count": 17,
      "source": [
        "q = 7 // 3     # This is integer division operator\n",
        "print(q)\n",
        "\n",
        "r  = 7 % 3\n",
        "print(r)"
      ],
      "outputs": [
        {
          "output_type": "stream",
          "name": "stdout",
          "text": [
            "2\n",
            "1\n"
          ]
        }
      ],
      "metadata": {}
    },
    {
      "cell_type": "markdown",
      "source": [
        "So 7 divided by 3 is 2 with a remainder of 1.\n",
        "\n",
        "The modulus operator turns out to be surprisingly useful. For example, you can check whether one number is divisible by another—if ***x % y*** is zero, then x is divisible by y.\n",
        "\n",
        "Also, you can extract the right-most digit or digits from a number. For example, x % 10 yields the right-most digit of x (in base 10). Similarly ***x % 100*** yields the last two digits.\n",
        "\n",
        "It is also extremely useful for doing conversions, say from seconds, to hours, minutes and seconds. So let’s write a program to ask the user to enter some seconds, and we’ll convert them into hours, minutes, and remaining seconds."
      ],
      "metadata": {}
    },
    {
      "cell_type": "code",
      "execution_count": 18,
      "source": [
        "total_secs = int(input(\"How many seconds, in total?\"))\n",
        "hours = total_secs // 3600\n",
        "secs_still_remaining = total_secs % 3600\n",
        "minutes =  secs_still_remaining // 60\n",
        "secs_finally_remaining = secs_still_remaining  % 60\n",
        "\n",
        "print(\"Hrs=\", hours, \"  mins=\", minutes, \"secs=\", secs_finally_remaining)\n"
      ],
      "outputs": [
        {
          "output_type": "stream",
          "name": "stdout",
          "text": [
            "Hrs= 0   mins= 13 secs= 0\n"
          ]
        }
      ],
      "metadata": {}
    }
  ]
}