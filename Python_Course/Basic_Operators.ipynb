{
  "nbformat": 4,
  "nbformat_minor": 0,
  "metadata": {
    "colab": {
      "name": "Basic_Operators.ipynb",
      "provenance": [],
      "authorship_tag": "ABX9TyPAw1rc4ONJoNNx00JLq9H4",
      "include_colab_link": true
    },
    "kernelspec": {
      "name": "python3",
      "display_name": "Python 3"
    },
    "language_info": {
      "name": "python"
    }
  },
  "cells": [
    {
      "cell_type": "markdown",
      "metadata": {
        "id": "view-in-github",
        "colab_type": "text"
      },
      "source": [
        "<a href=\"https://colab.research.google.com/github/dental-informatics-org/dental.informatics.org/blob/main/Python_Course/Basic_Operators.ipynb\" target=\"_parent\"><img src=\"https://colab.research.google.com/assets/colab-badge.svg\" alt=\"Open In Colab\"/></a>"
      ]
    },
    {
      "cell_type": "markdown",
      "metadata": {
        "id": "Nk2nwZHF7I8S"
      },
      "source": [
        "# Types of Operator\n",
        "---\n",
        "\n",
        "Python language supports the following types of operators.\n",
        "\n",
        "Arithmetic Operators.  \n",
        "Comparison (Relational) Operators.  \n",
        "Assignment Operators.  \n",
        "Logical Operators.  \n",
        "Bitwise Operators.  \n",
        "Membership Operators.  \n",
        "Identity Operators.   \n",
        "Let us have a look on all operators one by one."
      ]
    },
    {
      "cell_type": "code",
      "metadata": {
        "id": "rRnbIF-O6jZF"
      },
      "source": [
        ""
      ],
      "execution_count": null,
      "outputs": []
    }
  ]
}