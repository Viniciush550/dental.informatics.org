{
  "cells": [
    {
      "cell_type": "markdown",
      "metadata": {
        "colab_type": "text",
        "id": "view-in-github"
      },
      "source": [
        "<a href=\"https://colab.research.google.com/github/dental-informatics-org/dental.informatics.org/blob/main/Python_Course/Basic_Syntax.ipynb\" target=\"_parent\"><img src=\"https://colab.research.google.com/assets/colab-badge.svg\" alt=\"Open In Colab\"/></a>"
      ]
    },
    {
      "cell_type": "markdown",
      "metadata": {},
      "source": [
        "The Python language has many similarities to Perl, C, and Java. However, there are some definite differences between the languages. <br>\n",
        "\n",
        "# First Python Program\n",
        "Let us execute programs in different modes of programming.\n",
        "<br>\n",
        "\n",
        "> ## Interactive Mode Programming \n",
        "\n",
        "Invoking the interpreter without passing a script file as a parameter brings up the following prompt −\n"
      ]
    },
    {
      "cell_type": "code",
      "execution_count": null,
      "metadata": {},
      "outputs": [],
      "source": [
        "print (\"Hello, Python!\")"
      ]
    },
    {
      "cell_type": "markdown",
      "metadata": {},
      "source": [
        "If you are running new version of Python, then you would need to use print statement with parenthesis as in print (\"Hello, Python!\");. However in Python version 2.4.3, this produces the following result −\n",
        "```\n",
        "Hello, Python!\n",
        "```"
      ]
    },
    {
      "cell_type": "code",
      "execution_count": null,
      "metadata": {},
      "outputs": [],
      "source": [
        "# Press ctrl + return\n",
        "\n",
        "print (\"Hello, Python!\")"
      ]
    },
    {
      "cell_type": "markdown",
      "metadata": {},
      "source": [
        "> ## Script Mode Programming\n",
        "\n",
        "Invoking the interpreter with a script parameter begins execution of the script and continues until the script is finished. When the script is finished, the interpreter is no longer active.\n",
        "\n",
        "Let us write a simple Python program in a script. Python files have extension .py. Type the following source code in a test.py file −\n",
        "\n",
        "```\n",
        "print (\"Hello, Python!\")\n",
        "```\n",
        "We assume that you have Python interpreter set in PATH variable. Now, try to run this program as follows −\n",
        "\n",
        "```\n",
        "$ python test.py\n",
        "```\n",
        "\n",
        "Let us try another way to execute a Python script. Here is the modified test.py file −\n",
        "\n",
        "```\n",
        "#!/usr/bin/python\n",
        "\n",
        "print (\"Hello, Python!\")\n",
        "```\n",
        "We assume that you have Python interpreter available in /usr/bin directory. Now, try to run this program as follows −\n",
        "\n",
        "```\n",
        "$ chmod +x test.py     # This is to make file executable\n",
        "$./test.py\n",
        "```\n",
        "\n",
        "This produces the following result −\n",
        "\n",
        "```\n",
        "Hello, Python!\n",
        "```"
      ]
    },
    {
      "cell_type": "markdown",
      "metadata": {},
      "source": [
        "# Python Identifiers\n",
        "\n",
        "A Python identifier is a name used to identify a variable, function, class, module or other object. An identifier starts with a letter A to Z or a to z or an underscore (_) followed by zero or more letters, underscores and digits (0 to 9).\n",
        "\n",
        "Python does not allow punctuation characters such as @, $, and % within identifiers. Python is a case sensitive programming language. Thus, **Manpower** and **manpower** are two different identifiers in Python.\n",
        "\n",
        "Here are naming conventions for Python identifiers −\n",
        "\n",
        "- Class names start with an uppercase letter. All other identifiers start with a lowercase letter.\n",
        "\n",
        "- Starting an identifier with a single leading underscore indicates that the identifier is private.\n",
        "\n",
        "- Starting an identifier with two leading underscores indicates a strongly private identifier.\n",
        "\n",
        "- If the identifier also ends with two trailing underscores, the identifier is a language-defined special name.\n",
        "\n"
      ]
    },
    {
      "cell_type": "markdown",
      "metadata": {},
      "source": [
        "|        \t|        \t|       \t|\n",
        "|----------\t|---------\t|--------\t|\n",
        "| and      \t| exec    \t| not    \t|\n",
        "| assert   \t| finally \t| or     \t|\n",
        "| break    \t| for     \t| pass   \t|\n",
        "| class    \t| from    \t| print  \t|\n",
        "| continue \t| global  \t| raise  \t|\n",
        "| def      \t| if      \t| return \t|\n",
        "| del      \t| import  \t| try    \t|\n",
        "| elif     \t| in      \t| while  \t|\n",
        "| else     \t| is      \t| with   \t|\n",
        "| except   \t| lambda  \t| yield  \t|"
      ]
    },
    {
      "cell_type": "markdown",
      "metadata": {},
      "source": [
        "# Lines and Indentation\n",
        "Python provides no braces to indicate blocks of code for class and function definitions or flow control. Blocks of code are denoted by line indentation, which is rigidly enforced.\n",
        "\n",
        "The number of spaces in the indentation is variable, but all statements within the block must be indented the same amount. For example −"
      ]
    },
    {
      "cell_type": "code",
      "execution_count": null,
      "metadata": {},
      "outputs": [],
      "source": [
        "if True:\n",
        "   print (\"True\")\n",
        "else:\n",
        "   print (\"False\")"
      ]
    },
    {
      "cell_type": "markdown",
      "metadata": {},
      "source": [
        "However, the following block generates an error −"
      ]
    },
    {
      "cell_type": "code",
      "execution_count": null,
      "metadata": {},
      "outputs": [],
      "source": [
        "if True:\n",
        "print (\"Answer\")\n",
        "print (\"True\")\n",
        "else:\n",
        "print (\"Answer\")\n",
        "print (\"False\")"
      ]
    },
    {
      "cell_type": "markdown",
      "metadata": {},
      "source": [
        "Thus, in Python all the continuous lines indented with same number of spaces would form a block. The following example has various statement blocks −\n",
        "\n",
        "**Note** − Do not try to understand the logic at this point of time. Just make sure you understood various blocks even if they are without braces."
      ]
    },
    {
      "cell_type": "code",
      "execution_count": null,
      "metadata": {},
      "outputs": [],
      "source": [
        "#!/usr/bin/python\n",
        "\n",
        "import sys\n",
        "\n",
        "try:\n",
        "   # open file stream\n",
        "   file = open(file_name, \"w\")\n",
        "except IOError:\n",
        "   print (\"There was an error writing to\"), file_name\n",
        "   sys.exit()\n",
        "print (\"Enter '\"), file_finish,\n",
        "print (\"' When finished\")\n",
        "while file_text != file_finish:\n",
        "   file_text = raw_input(\"Enter text: \")\n",
        "   if file_text == file_finish:\n",
        "      # close the file\n",
        "      file.close\n",
        "      break\n",
        "   file.write(file_text)\n",
        "   file.write(\"\\n\")\n",
        "file.close()\n",
        "file_name = raw_input(\"Enter filename: \")\n",
        "if len(file_name) == 0:\n",
        "   print (\"Next time please enter something\")\n",
        "   sys.exit()\n",
        "try:\n",
        "   file = open(file_name, \"r\")\n",
        "except IOError:\n",
        "   print (\"There was an error reading file\")\n",
        "   sys.exit()\n",
        "file_text = file.read()\n",
        "file.close()\n",
        "print (file_text)"
      ]
    },
    {
      "cell_type": "markdown",
      "metadata": {},
      "source": [
        "# Multi-Line Statements\n",
        "\n",
        "Statements in Python typically end with a new line. Python does, however, allow the use of the line continuation character (\\) to denote that the line should continue. For example −"
      ]
    },
    {
      "cell_type": "code",
      "execution_count": null,
      "metadata": {},
      "outputs": [],
      "source": [
        "total = item_one + \\\n",
        "        item_two + \\\n",
        "        item_three"
      ]
    },
    {
      "cell_type": "markdown",
      "metadata": {},
      "source": [
        "Statements contained within the [], {}, or () brackets do not need to use the line continuation character. For example −"
      ]
    },
    {
      "cell_type": "code",
      "execution_count": null,
      "metadata": {},
      "outputs": [],
      "source": [
        "days = ['Monday', 'Tuesday', 'Wednesday',\n",
        "        'Thursday', 'Friday']"
      ]
    },
    {
      "cell_type": "markdown",
      "metadata": {},
      "source": [
        "# Quotation in Python\n",
        "Python accepts single ('), double (\") and triple (''' or \"\"\") quotes to denote string literals, as long as the same type of quote starts and ends the string.\n",
        "\n",
        "The triple quotes are used to span the string across multiple lines. For example, all the following are legal −"
      ]
    },
    {
      "cell_type": "code",
      "execution_count": null,
      "metadata": {},
      "outputs": [],
      "source": [
        "word = 'word'\n",
        "sentence = \"This is a sentence.\"\n",
        "paragraph = \"\"\"This is a paragraph. It is\n",
        "made up of multiple lines and sentences.\"\"\""
      ]
    },
    {
      "cell_type": "markdown",
      "metadata": {},
      "source": [
        "# Comments in Python\n",
        "A hash sign (#) that is not inside a string literal begins a comment. All characters after the # and up to the end of the physical line are part of the comment and the Python interpreter ignores them."
      ]
    },
    {
      "cell_type": "code",
      "execution_count": null,
      "metadata": {},
      "outputs": [],
      "source": [
        "#!/usr/bin/python\n",
        "\n",
        "# First comment\n",
        "print (\"Hello, Python!\") # second comment"
      ]
    },
    {
      "cell_type": "markdown",
      "metadata": {},
      "source": [
        "This produces the following result −\n",
        "\n",
        "```\n",
        "Hello, Python!\n",
        "```"
      ]
    },
    {
      "cell_type": "markdown",
      "metadata": {},
      "source": [
        "You can type a comment on the same line after a statement or expression −"
      ]
    },
    {
      "cell_type": "code",
      "execution_count": null,
      "metadata": {},
      "outputs": [],
      "source": [
        "name = \"Madisetti\" # This is again comment"
      ]
    },
    {
      "cell_type": "markdown",
      "metadata": {},
      "source": [
        "You can comment multiple lines as follows −"
      ]
    },
    {
      "cell_type": "code",
      "execution_count": null,
      "metadata": {},
      "outputs": [],
      "source": [
        "# This is a comment.\n",
        "# This is a comment, too.\n",
        "# This is a comment, too.\n",
        "# I said that already."
      ]
    },
    {
      "cell_type": "markdown",
      "metadata": {},
      "source": [
        "Following triple-quoted string is also ignored by Python interpreter and can be used as a multiline comments:"
      ]
    },
    {
      "cell_type": "code",
      "execution_count": null,
      "metadata": {},
      "outputs": [],
      "source": [
        "'''\n",
        "This is a multiline\n",
        "comment.\n",
        "'''"
      ]
    },
    {
      "cell_type": "markdown",
      "metadata": {},
      "source": [
        "# Using Blank Lines\n",
        "\n",
        "A line containing only whitespace, possibly with a comment, is known as a blank line and Python totally ignores it.\n",
        "\n",
        "In an interactive interpreter session, you must enter an empty physical line to terminate a multiline statement.\n",
        "\n",
        "<br> \n",
        "\n",
        "# Waiting for the User\n",
        "\n",
        "The following line of the program displays the prompt, the statement saying “Press the enter key to exit”, and waits for the user to take action −\n"
      ]
    },
    {
      "cell_type": "code",
      "execution_count": null,
      "metadata": {},
      "outputs": [],
      "source": [
        "#!/usr/bin/python\n",
        "\n",
        "raw_input(\"\\n\\nPress the enter key to exit.\")"
      ]
    },
    {
      "cell_type": "markdown",
      "metadata": {},
      "source": [
        "Here, \"\\n\\n\" is used to create two new lines before displaying the actual line. Once the user presses the key, the program ends. This is a nice trick to keep a console window open until the user is done with an application.\n",
        "\n",
        "<br>\n",
        "\n",
        "# Multiple Statements on a Single Line\n",
        "\n",
        "The semicolon ( ; ) allows multiple statements on the single line given that neither statement starts a new code block. Here is a sample snip using the semicolon −"
      ]
    },
    {
      "cell_type": "code",
      "execution_count": null,
      "metadata": {},
      "outputs": [],
      "source": [
        "import sys; x = 'foo'; sys.stdout.write(x + '\\n')"
      ]
    },
    {
      "cell_type": "markdown",
      "metadata": {},
      "source": [
        "# Multiple Statement Groups as Suites\n",
        "\n",
        "A group of individual statements, which make a single code block are called suites in Python. Compound or complex statements, such as if, while, def, and class require a header line and a suite.\n",
        "\n",
        "Header lines begin the statement (with the keyword) and terminate with a colon ( : ) and are followed by one or more lines which make up the suite. For example −"
      ]
    },
    {
      "cell_type": "code",
      "execution_count": null,
      "metadata": {},
      "outputs": [],
      "source": [
        "if expression : \n",
        "   suite\n",
        "elif expression : \n",
        "   suite \n",
        "else : \n",
        "   suite"
      ]
    },
    {
      "cell_type": "markdown",
      "metadata": {},
      "source": [
        "# Command Line Arguments\n",
        "\n",
        "Many programs can be run to provide you with some basic information about how they should be run. Python enables you to do this with -h −\n",
        "\n",
        "```\n",
        "$ python -h\n",
        "usage: python [option] ... [-c cmd | -m mod | file | -] [arg] ...\n",
        "Options and arguments (and corresponding environment variables):\n",
        "-c cmd : program passed in as string (terminates option list)\n",
        "-d     : debug output from parser (also PYTHONDEBUG=x)\n",
        "-E     : ignore environment variables (such as PYTHONPATH)\n",
        "-h     : print this help message and exit\n",
        "\n",
        "[ etc. ]\n",
        "```"
      ]
    },
    {
      "cell_type": "markdown",
      "metadata": {},
      "source": [
        "You can also program your script in such a way that it should accept various options. Command Line Arguments is an advanced topic and should be studied a bit later once you have gone through rest of the Python concepts."
      ]
    }
  ],
  "metadata": {
    "colab": {
      "authorship_tag": "ABX9TyM9cTrica912fq3otKF0eK+",
      "include_colab_link": true,
      "name": "Basic_Syntax.ipynb",
      "provenance": []
    },
    "interpreter": {
      "hash": "36cf16204b8548560b1c020c4e8fb5b57f0e4c58016f52f2d4be01e192833930"
    },
    "kernelspec": {
      "display_name": "Python 3.9.7 64-bit",
      "name": "python3"
    },
    "language_info": {
      "codemirror_mode": {
        "name": "ipython",
        "version": 3
      },
      "file_extension": ".py",
      "mimetype": "text/x-python",
      "name": "python",
      "nbconvert_exporter": "python",
      "pygments_lexer": "ipython3",
      "version": "3.9.7"
    }
  },
  "nbformat": 4,
  "nbformat_minor": 2
}
