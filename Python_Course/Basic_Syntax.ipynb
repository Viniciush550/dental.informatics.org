{
  "nbformat": 4,
  "nbformat_minor": 0,
  "metadata": {
    "colab": {
      "name": "Basic_Syntax.ipynb",
      "provenance": [],
      "authorship_tag": "ABX9TyM9cTrica912fq3otKF0eK+",
      "include_colab_link": true
    },
    "kernelspec": {
      "name": "python3",
      "display_name": "Python 3"
    },
    "language_info": {
      "name": "python"
    }
  },
  "cells": [
    {
      "cell_type": "markdown",
      "metadata": {
        "id": "view-in-github",
        "colab_type": "text"
      },
      "source": [
        "<a href=\"https://colab.research.google.com/github/dental-informatics-org/dental.informatics.org/blob/main/Python_Course/Basic_Syntax.ipynb\" target=\"_parent\"><img src=\"https://colab.research.google.com/assets/colab-badge.svg\" alt=\"Open In Colab\"/></a>"
      ]
    },
    {
      "cell_type": "markdown",
      "metadata": {
        "id": "r4cGz2cHUE5h"
      },
      "source": [
        "# MarkDown Examples\n",
        "---\n",
        "\n",
        "\n",
        "[Make a README](https://www.makeareadme.com/)\n"
      ]
    },
    {
      "cell_type": "markdown",
      "metadata": {
        "id": "fHmhvdyBUQLm"
      },
      "source": [
        "# References\n",
        "---\n",
        "- [Python Tutorial - Tutorials Point](https://www.tutorialspoint.com/python/index.htm)\n",
        "- [Python Tutorial - W3](https://www.w3schools.com/python/default.asp)\n"
      ]
    },
    {
      "cell_type": "markdown",
      "metadata": {
        "id": "ujfFXpL-UYQD"
      },
      "source": [
        "# Python - Basic Syntax\n",
        "# Python Identifiers\n",
        "# Reserved Words\n",
        "\n",
        "> The following list shows the Python keywords. These are reserved words and you cannot use them as constant or variable or any other identifier names. All the Python keywords contain lowercase letters only.\n",
        "\n",
        "\n",
        "# Multi-Line Statements\n",
        "# Quotation in Python\n",
        "# Comments in Python\n",
        "# Using Blank Lines\n",
        "# Waiting for the User ?????\n",
        "# Multiple Statements on a Single Line\n",
        "\n"
      ]
    }
  ]
}