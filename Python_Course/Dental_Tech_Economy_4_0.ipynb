{
  "nbformat": 4,
  "nbformat_minor": 0,
  "metadata": {
    "colab": {
      "name": "Dental_Tech_Economy_4_0.ipynb",
      "provenance": [],
      "collapsed_sections": [],
      "authorship_tag": "ABX9TyO82U7VftOR4bq5CKZjPh2R",
      "include_colab_link": true
    },
    "kernelspec": {
      "name": "python3",
      "display_name": "Python 3"
    },
    "language_info": {
      "name": "python"
    }
  },
  "cells": [
    {
      "cell_type": "markdown",
      "metadata": {
        "id": "view-in-github",
        "colab_type": "text"
      },
      "source": [
        "<a href=\"https://colab.research.google.com/github/dental-informatics-org/dental.informatics.org/blob/main/Python_Course/Dental_Tech_Economy_4_0.ipynb\" target=\"_parent\"><img src=\"https://colab.research.google.com/assets/colab-badge.svg\" alt=\"Open In Colab\"/></a>"
      ]
    },
    {
      "cell_type": "markdown",
      "metadata": {
        "id": "ajBE15yrxHyh"
      },
      "source": [
        "# Sankey-Diagram\n",
        " [sankey-diagram - 1](https://www.python-graph-gallery.com/sankey-diagram-with-python-and-plotly)  \n",
        " [sankey-diagram - 2](https://www.python-graph-gallery.com/sankey-diagram/)\n"
      ]
    },
    {
      "cell_type": "code",
      "metadata": {
        "colab": {
          "base_uri": "https://localhost:8080/",
          "height": 542
        },
        "id": "WI1tbCKTwg72",
        "outputId": "2042c3d3-d5ea-409f-9547-910b4658bd2b"
      },
      "source": [
        "import plotly.graph_objects as go\n",
        "import urllib, json\n",
        "\n",
        "url = 'https://raw.githubusercontent.com/dental-informatics-org/dental.informatics.org/main/BioThec_Comp/dent_4_0.json'\n",
        "response = urllib.request.urlopen(url)\n",
        "data = json.loads(response.read())\n",
        "\n",
        "# override gray link colors with 'source' colors\n",
        "opacity = 0.4\n",
        "# change 'magenta' to its 'rgba' value to add opacity\n",
        "data['data'][0]['node']['color'] = ['rgba(255,0,255, 0.8)' if color == \"magenta\" else color for color in data['data'][0]['node']['color']]\n",
        "data['data'][0]['link']['color'] = [data['data'][0]['node']['color'][src].replace(\"0.8\", str(opacity))\n",
        "                                    for src in data['data'][0]['link']['source']]\n",
        "\n",
        "fig = go.Figure(data=[go.Sankey(\n",
        "    valueformat = \".0f\",\n",
        "    valuesuffix = \"TWh\",\n",
        "    # Define nodes\n",
        "    node = dict(\n",
        "      pad = 15,\n",
        "      thickness = 15,\n",
        "      line = dict(color = \"black\", width = 0.5),\n",
        "      label =  data['data'][0]['node']['label'],\n",
        "      color =  data['data'][0]['node']['color']\n",
        "    ),\n",
        "    # Add links\n",
        "    link = dict(\n",
        "      source =  data['data'][0]['link']['source'],\n",
        "      target =  data['data'][0]['link']['target'],\n",
        "      value =  data['data'][0]['link']['value'],\n",
        "      label =  data['data'][0]['link']['label'],\n",
        "      color =  data['data'][0]['link']['color']\n",
        "))])\n",
        "\n",
        "fig.update_layout(title_text=\"Energy forecast for 2050<br>Source: Department of Energy & Climate Change, Tom Counsell via <a href='https://bost.ocks.org/mike/sankey/'>Mike Bostock</a>\",\n",
        "                  font_size=10)"
      ],
      "execution_count": null,
      "outputs": [
        {
          "output_type": "display_data",
          "data": {
            "text/html": [
              "<html>\n",
              "<head><meta charset=\"utf-8\" /></head>\n",
              "<body>\n",
              "    <div>\n",
              "            <script src=\"https://cdnjs.cloudflare.com/ajax/libs/mathjax/2.7.5/MathJax.js?config=TeX-AMS-MML_SVG\"></script><script type=\"text/javascript\">if (window.MathJax) {MathJax.Hub.Config({SVG: {font: \"STIX-Web\"}});}</script>\n",
              "                <script type=\"text/javascript\">window.PlotlyConfig = {MathJaxConfig: 'local'};</script>\n",
              "        <script src=\"https://cdn.plot.ly/plotly-latest.min.js\"></script>    \n",
              "            <div id=\"b3f592bb-7607-4921-b133-c248d603a9de\" class=\"plotly-graph-div\" style=\"height:525px; width:100%;\"></div>\n",
              "            <script type=\"text/javascript\">\n",
              "                \n",
              "                    window.PLOTLYENV=window.PLOTLYENV || {};\n",
              "                    \n",
              "                if (document.getElementById(\"b3f592bb-7607-4921-b133-c248d603a9de\")) {\n",
              "                    Plotly.newPlot(\n",
              "                        'b3f592bb-7607-4921-b133-c248d603a9de',\n",
              "                        [{\"link\": {\"color\": [\"rgba(31, 119, 180, 0.4)\", \"rgba(255, 127, 14, 0.4)\", \"rgba(255, 127, 14, 0.4)\", \"rgba(255, 127, 14, 0.4)\", \"rgba(255, 127, 14, 0.4)\", \"rgba(227, 119, 194, 0.4)\", \"rgba(127, 127, 127, 0.4)\", \"rgba(188, 189, 34, 0.4)\", \"rgba(31, 119, 180, 0.4)\", \"rgba(23, 190, 207, 0.4)\", \"rgba(255, 127, 14, 0.4)\", \"rgba(255, 127, 14, 0.4)\", \"rgba(255, 127, 14, 0.4)\", \"rgba(140, 86, 75, 0.4)\", \"rgba(140, 86, 75, 0.4)\", \"rgba(140, 86, 75, 0.4)\", \"rgba(140, 86, 75, 0.4)\", \"rgba(140, 86, 75, 0.4)\", \"rgba(140, 86, 75, 0.4)\", \"rgba(140, 86, 75, 0.4)\", \"rgba(140, 86, 75, 0.4)\", \"rgba(140, 86, 75, 0.4)\", \"rgba(140, 86, 75, 0.4)\", \"rgba(140, 86, 75, 0.4)\", \"rgba(214, 39, 40, 0.4)\", \"rgba(140, 86, 75, 0.4)\", \"rgba(140, 86, 75, 0.4)\", \"rgba(140, 86, 75, 0.4)\", \"rgba(140, 86, 75, 0.4)\", \"rgba(140, 86, 75, 0.4)\", \"rgba(140, 86, 75, 0.4)\", \"rgba(127, 127, 127, 0.4)\", \"rgba(127, 127, 127, 0.4)\", \"rgba(127, 127, 127, 0.4)\", \"rgba(188, 189, 34, 0.4)\", \"rgba(23, 190, 207, 0.4)\", \"rgba(44, 160, 44, 0.4)\", \"rgba(44, 160, 44, 0.4)\", \"rgba(44, 160, 44, 0.4)\", \"rgba(44, 160, 44, 0.4)\", \"rgba(44, 160, 44, 0.4)\", \"rgba(44, 160, 44, 0.4)\", \"rgba(44, 160, 44, 0.4)\", \"rgba(44, 160, 44, 0.4)\", \"rgba(148, 103, 189, 0.4)\", \"rgba(148, 103, 189, 0.4)\", \"rgba(255,0,255, 0.4)\", \"rgba(255,0,255, 0.4)\", \"rgba(227, 119, 194, 0.4)\", \"rgba(188, 189, 34, 0.4)\", \"rgba(127, 127, 127, 0.4)\", \"rgba(23, 190, 207, 0.4)\", \"rgba(23, 190, 207, 0.4)\", \"rgba(31, 119, 180, 0.4)\", \"rgba(31, 119, 180, 0.4)\", \"rgba(255, 127, 14, 0.4)\", \"rgba(44, 160, 44, 0.4)\", \"rgba(214, 39, 40, 0.4)\", \"rgba(214, 39, 40, 0.4)\", \"rgba(148, 103, 189, 0.4)\", \"rgba(148, 103, 189, 0.4)\", \"rgba(148, 103, 189, 0.4)\", \"rgba(227, 119, 194, 0.4)\", \"rgba(227, 119, 194, 0.4)\", \"rgba(227, 119, 194, 0.4)\", \"rgba(148, 103, 189, 0.4)\", \"rgba(140, 86, 75, 0.4)\", \"rgba(227, 119, 194, 0.4)\", \"rgba(127, 127, 127, 0.4)\", \"rgba(255,0,255, 0.4)\", \"rgba(255,0,255, 0.4)\"], \"label\": [\"stream 1\", \"\", \"\", \"\", \"stream 1\", \"\", \"\", \"\", \"\", \"\", \"\", \"\", \"\", \"\", \"\", \"\", \"\", \"\", \"\", \"\", \"\", \"\", \"\", \"\", \"\", \"\", \"\", \"\", \"\", \"\", \"stream 1\", \"\", \"\", \"\", \"\", \"\", \"\", \"\", \"\", \"\", \"\", \"\", \"\", \"\", \"\", \"\", \"Old generation plant (made-up)\", \"New generation plant (made-up)\", \"\", \"\", \"\", \"\", \"\", \"\", \"\", \"\", \"\", \"\", \"\", \"\", \"\", \"\", \"\", \"\", \"\", \"\", \"\", \"\", \"\", \"\", \"\"], \"source\": [0, 1, 1, 1, 1, 6, 7, 8, 10, 9, 11, 11, 11, 15, 15, 15, 15, 15, 15, 15, 15, 15, 15, 15, 23, 25, 5, 5, 5, 5, 5, 27, 17, 17, 28, 29, 2, 2, 2, 2, 2, 2, 2, 2, 34, 24, 35, 35, 36, 38, 37, 39, 39, 40, 40, 41, 42, 43, 43, 4, 4, 4, 26, 26, 26, 44, 45, 46, 47, 35, 35], \"target\": [1, 2, 3, 4, 5, 2, 4, 9, 9, 4, 12, 13, 14, 16, 14, 17, 12, 18, 19, 13, 3, 20, 21, 22, 24, 24, 13, 3, 26, 19, 12, 15, 28, 3, 18, 15, 12, 30, 18, 31, 32, 19, 33, 20, 1, 5, 26, 26, 37, 37, 2, 4, 1, 14, 13, 15, 14, 42, 41, 19, 26, 12, 15, 3, 11, 15, 1, 15, 15, 26, 26], \"value\": [124.729, 0.597, 26.862, 280.322, 81.144, 35, 35, 11.606, 63.965, 75.571, 10.639, 22.505, 46.184, 104.453, 113.726, 27.14, 342.165, 37.797, 4.412, 40.858, 56.691, 7.863, 90.008, 93.494, 40.719, 82.233, 0.129, 1.401, 151.891, 2.096, 48.58, 7.013, 20.897, 6.242, 20.897, 6.995, 121.066, 128.69, 135.835, 14.458, 206.267, 3.64, 33.218, 4.413, 14.375, 122.952, 500, 139.978, 504.287, 107.703, 611.99, 56.587, 77.81, 193.026, 70.672, 59.901, 19.263, 19.263, 59.901, 0.882, 400.12, 46.477, 525.531, 787.129, 79.329, 9.452, 182.01, 19.013, 289.366, 100, 100]}, \"node\": {\"color\": [\"rgba(31, 119, 180, 0.8)\", \"rgba(255, 127, 14, 0.8)\", \"rgba(44, 160, 44, 0.8)\", \"rgba(214, 39, 40, 0.8)\", \"rgba(148, 103, 189, 0.8)\", \"rgba(140, 86, 75, 0.8)\", \"rgba(227, 119, 194, 0.8)\", \"rgba(127, 127, 127, 0.8)\", \"rgba(188, 189, 34, 0.8)\", \"rgba(23, 190, 207, 0.8)\", \"rgba(31, 119, 180, 0.8)\", \"rgba(255, 127, 14, 0.8)\", \"rgba(44, 160, 44, 0.8)\", \"rgba(214, 39, 40, 0.8)\", \"rgba(148, 103, 189, 0.8)\", \"rgba(140, 86, 75, 0.8)\", \"rgba(227, 119, 194, 0.8)\", \"rgba(127, 127, 127, 0.8)\", \"rgba(188, 189, 34, 0.8)\", \"rgba(23, 190, 207, 0.8)\", \"rgba(31, 119, 180, 0.8)\", \"rgba(255, 127, 14, 0.8)\", \"rgba(44, 160, 44, 0.8)\", \"rgba(214, 39, 40, 0.8)\", \"rgba(148, 103, 189, 0.8)\", \"rgba(140, 86, 75, 0.8)\", \"rgba(227, 119, 194, 0.8)\", \"rgba(127, 127, 127, 0.8)\", \"rgba(188, 189, 34, 0.8)\", \"rgba(23, 190, 207, 0.8)\", \"rgba(31, 119, 180, 0.8)\", \"rgba(255, 127, 14, 0.8)\", \"rgba(44, 160, 44, 0.8)\", \"rgba(214, 39, 40, 0.8)\", \"rgba(148, 103, 189, 0.8)\", \"rgba(255,0,255, 0.8)\", \"rgba(227, 119, 194, 0.8)\", \"rgba(127, 127, 127, 0.8)\", \"rgba(188, 189, 34, 0.8)\", \"rgba(23, 190, 207, 0.8)\", \"rgba(31, 119, 180, 0.8)\", \"rgba(255, 127, 14, 0.8)\", \"rgba(44, 160, 44, 0.8)\", \"rgba(214, 39, 40, 0.8)\", \"rgba(148, 103, 189, 0.8)\", \"rgba(140, 86, 75, 0.8)\", \"rgba(227, 119, 194, 0.8)\", \"rgba(127, 127, 127, 0.8)\"], \"label\": [\"Agricultural 'waste'\", \"Bio-conversion\", \"Liquid\", \"Losses\", \"Solid\", \"Gas\", \"Biofuel imports\", \"Biomass imports\", \"Coal imports\", \"Coal\", \"Coal reserves\", \"District heating\", \"Industry\", \"Heating and cooling - commercial\", \"Heating and cooling - homes\", \"Electricity grid\", \"Over generation / exports\", \"H2 conversion\", \"Road transport\", \"Agriculture\", \"Rail transport\", \"Lighting & appliances - commercial\", \"Lighting & appliances - homes\", \"Gas imports\", \"Ngas\", \"Gas reserves\", \"Thermal generation\", \"Geothermal\", \"H2\", \"Hydro\", \"International shipping\", \"Domestic aviation\", \"International aviation\", \"National navigation\", \"Marine algae\", \"Nuclear\", \"Oil imports\", \"Oil\", \"Oil reserves\", \"Other waste\", \"Pumped heat\", \"Solar PV\", \"Solar Thermal\", \"Solar\", \"Tidal\", \"UK land based bioenergy\", \"Wave\", \"Wind\"], \"line\": {\"color\": \"black\", \"width\": 0.5}, \"pad\": 15, \"thickness\": 15}, \"type\": \"sankey\", \"valueformat\": \".0f\", \"valuesuffix\": \"TWh\"}],\n",
              "                        {\"font\": {\"size\": 10}, \"template\": {\"data\": {\"bar\": [{\"error_x\": {\"color\": \"#2a3f5f\"}, \"error_y\": {\"color\": \"#2a3f5f\"}, \"marker\": {\"line\": {\"color\": \"#E5ECF6\", \"width\": 0.5}}, \"type\": \"bar\"}], \"barpolar\": [{\"marker\": {\"line\": {\"color\": \"#E5ECF6\", \"width\": 0.5}}, \"type\": \"barpolar\"}], \"carpet\": [{\"aaxis\": {\"endlinecolor\": \"#2a3f5f\", \"gridcolor\": \"white\", \"linecolor\": \"white\", \"minorgridcolor\": \"white\", \"startlinecolor\": \"#2a3f5f\"}, \"baxis\": {\"endlinecolor\": \"#2a3f5f\", \"gridcolor\": \"white\", \"linecolor\": \"white\", \"minorgridcolor\": \"white\", \"startlinecolor\": \"#2a3f5f\"}, \"type\": \"carpet\"}], \"choropleth\": [{\"colorbar\": {\"outlinewidth\": 0, \"ticks\": \"\"}, \"type\": \"choropleth\"}], \"contour\": [{\"colorbar\": {\"outlinewidth\": 0, \"ticks\": \"\"}, \"colorscale\": [[0.0, \"#0d0887\"], [0.1111111111111111, \"#46039f\"], [0.2222222222222222, \"#7201a8\"], [0.3333333333333333, \"#9c179e\"], [0.4444444444444444, \"#bd3786\"], [0.5555555555555556, \"#d8576b\"], [0.6666666666666666, \"#ed7953\"], [0.7777777777777778, \"#fb9f3a\"], [0.8888888888888888, \"#fdca26\"], [1.0, \"#f0f921\"]], \"type\": \"contour\"}], \"contourcarpet\": [{\"colorbar\": {\"outlinewidth\": 0, \"ticks\": \"\"}, \"type\": \"contourcarpet\"}], \"heatmap\": [{\"colorbar\": {\"outlinewidth\": 0, \"ticks\": \"\"}, \"colorscale\": [[0.0, \"#0d0887\"], [0.1111111111111111, \"#46039f\"], [0.2222222222222222, \"#7201a8\"], [0.3333333333333333, \"#9c179e\"], [0.4444444444444444, \"#bd3786\"], [0.5555555555555556, \"#d8576b\"], [0.6666666666666666, \"#ed7953\"], [0.7777777777777778, \"#fb9f3a\"], [0.8888888888888888, \"#fdca26\"], [1.0, \"#f0f921\"]], \"type\": \"heatmap\"}], \"heatmapgl\": [{\"colorbar\": {\"outlinewidth\": 0, \"ticks\": \"\"}, \"colorscale\": [[0.0, \"#0d0887\"], [0.1111111111111111, \"#46039f\"], [0.2222222222222222, \"#7201a8\"], [0.3333333333333333, \"#9c179e\"], [0.4444444444444444, \"#bd3786\"], [0.5555555555555556, \"#d8576b\"], [0.6666666666666666, \"#ed7953\"], [0.7777777777777778, \"#fb9f3a\"], [0.8888888888888888, \"#fdca26\"], [1.0, \"#f0f921\"]], \"type\": \"heatmapgl\"}], \"histogram\": [{\"marker\": {\"colorbar\": {\"outlinewidth\": 0, \"ticks\": \"\"}}, \"type\": \"histogram\"}], \"histogram2d\": [{\"colorbar\": {\"outlinewidth\": 0, \"ticks\": \"\"}, \"colorscale\": [[0.0, \"#0d0887\"], [0.1111111111111111, \"#46039f\"], [0.2222222222222222, \"#7201a8\"], [0.3333333333333333, \"#9c179e\"], [0.4444444444444444, \"#bd3786\"], [0.5555555555555556, \"#d8576b\"], [0.6666666666666666, \"#ed7953\"], [0.7777777777777778, \"#fb9f3a\"], [0.8888888888888888, \"#fdca26\"], [1.0, \"#f0f921\"]], \"type\": \"histogram2d\"}], \"histogram2dcontour\": [{\"colorbar\": {\"outlinewidth\": 0, \"ticks\": \"\"}, \"colorscale\": [[0.0, \"#0d0887\"], [0.1111111111111111, \"#46039f\"], [0.2222222222222222, \"#7201a8\"], [0.3333333333333333, \"#9c179e\"], [0.4444444444444444, \"#bd3786\"], [0.5555555555555556, \"#d8576b\"], [0.6666666666666666, \"#ed7953\"], [0.7777777777777778, \"#fb9f3a\"], [0.8888888888888888, \"#fdca26\"], [1.0, \"#f0f921\"]], \"type\": \"histogram2dcontour\"}], \"mesh3d\": [{\"colorbar\": {\"outlinewidth\": 0, \"ticks\": \"\"}, \"type\": \"mesh3d\"}], \"parcoords\": [{\"line\": {\"colorbar\": {\"outlinewidth\": 0, \"ticks\": \"\"}}, \"type\": \"parcoords\"}], \"pie\": [{\"automargin\": true, \"type\": \"pie\"}], \"scatter\": [{\"marker\": {\"colorbar\": {\"outlinewidth\": 0, \"ticks\": \"\"}}, \"type\": \"scatter\"}], \"scatter3d\": [{\"line\": {\"colorbar\": {\"outlinewidth\": 0, \"ticks\": \"\"}}, \"marker\": {\"colorbar\": {\"outlinewidth\": 0, \"ticks\": \"\"}}, \"type\": \"scatter3d\"}], \"scattercarpet\": [{\"marker\": {\"colorbar\": {\"outlinewidth\": 0, \"ticks\": \"\"}}, \"type\": \"scattercarpet\"}], \"scattergeo\": [{\"marker\": {\"colorbar\": {\"outlinewidth\": 0, \"ticks\": \"\"}}, \"type\": \"scattergeo\"}], \"scattergl\": [{\"marker\": {\"colorbar\": {\"outlinewidth\": 0, \"ticks\": \"\"}}, \"type\": \"scattergl\"}], \"scattermapbox\": [{\"marker\": {\"colorbar\": {\"outlinewidth\": 0, \"ticks\": \"\"}}, \"type\": \"scattermapbox\"}], \"scatterpolar\": [{\"marker\": {\"colorbar\": {\"outlinewidth\": 0, \"ticks\": \"\"}}, \"type\": \"scatterpolar\"}], \"scatterpolargl\": [{\"marker\": {\"colorbar\": {\"outlinewidth\": 0, \"ticks\": \"\"}}, \"type\": \"scatterpolargl\"}], \"scatterternary\": [{\"marker\": {\"colorbar\": {\"outlinewidth\": 0, \"ticks\": \"\"}}, \"type\": \"scatterternary\"}], \"surface\": [{\"colorbar\": {\"outlinewidth\": 0, \"ticks\": \"\"}, \"colorscale\": [[0.0, \"#0d0887\"], [0.1111111111111111, \"#46039f\"], [0.2222222222222222, \"#7201a8\"], [0.3333333333333333, \"#9c179e\"], [0.4444444444444444, \"#bd3786\"], [0.5555555555555556, \"#d8576b\"], [0.6666666666666666, \"#ed7953\"], [0.7777777777777778, \"#fb9f3a\"], [0.8888888888888888, \"#fdca26\"], [1.0, \"#f0f921\"]], \"type\": \"surface\"}], \"table\": [{\"cells\": {\"fill\": {\"color\": \"#EBF0F8\"}, \"line\": {\"color\": \"white\"}}, \"header\": {\"fill\": {\"color\": \"#C8D4E3\"}, \"line\": {\"color\": \"white\"}}, \"type\": \"table\"}]}, \"layout\": {\"annotationdefaults\": {\"arrowcolor\": \"#2a3f5f\", \"arrowhead\": 0, \"arrowwidth\": 1}, \"coloraxis\": {\"colorbar\": {\"outlinewidth\": 0, \"ticks\": \"\"}}, \"colorscale\": {\"diverging\": [[0, \"#8e0152\"], [0.1, \"#c51b7d\"], [0.2, \"#de77ae\"], [0.3, \"#f1b6da\"], [0.4, \"#fde0ef\"], [0.5, \"#f7f7f7\"], [0.6, \"#e6f5d0\"], [0.7, \"#b8e186\"], [0.8, \"#7fbc41\"], [0.9, \"#4d9221\"], [1, \"#276419\"]], \"sequential\": [[0.0, \"#0d0887\"], [0.1111111111111111, \"#46039f\"], [0.2222222222222222, \"#7201a8\"], [0.3333333333333333, \"#9c179e\"], [0.4444444444444444, \"#bd3786\"], [0.5555555555555556, \"#d8576b\"], [0.6666666666666666, \"#ed7953\"], [0.7777777777777778, \"#fb9f3a\"], [0.8888888888888888, \"#fdca26\"], [1.0, \"#f0f921\"]], \"sequentialminus\": [[0.0, \"#0d0887\"], [0.1111111111111111, \"#46039f\"], [0.2222222222222222, \"#7201a8\"], [0.3333333333333333, \"#9c179e\"], [0.4444444444444444, \"#bd3786\"], [0.5555555555555556, \"#d8576b\"], [0.6666666666666666, \"#ed7953\"], [0.7777777777777778, \"#fb9f3a\"], [0.8888888888888888, \"#fdca26\"], [1.0, \"#f0f921\"]]}, \"colorway\": [\"#636efa\", \"#EF553B\", \"#00cc96\", \"#ab63fa\", \"#FFA15A\", \"#19d3f3\", \"#FF6692\", \"#B6E880\", \"#FF97FF\", \"#FECB52\"], \"font\": {\"color\": \"#2a3f5f\"}, \"geo\": {\"bgcolor\": \"white\", \"lakecolor\": \"white\", \"landcolor\": \"#E5ECF6\", \"showlakes\": true, \"showland\": true, \"subunitcolor\": \"white\"}, \"hoverlabel\": {\"align\": \"left\"}, \"hovermode\": \"closest\", \"mapbox\": {\"style\": \"light\"}, \"paper_bgcolor\": \"white\", \"plot_bgcolor\": \"#E5ECF6\", \"polar\": {\"angularaxis\": {\"gridcolor\": \"white\", \"linecolor\": \"white\", \"ticks\": \"\"}, \"bgcolor\": \"#E5ECF6\", \"radialaxis\": {\"gridcolor\": \"white\", \"linecolor\": \"white\", \"ticks\": \"\"}}, \"scene\": {\"xaxis\": {\"backgroundcolor\": \"#E5ECF6\", \"gridcolor\": \"white\", \"gridwidth\": 2, \"linecolor\": \"white\", \"showbackground\": true, \"ticks\": \"\", \"zerolinecolor\": \"white\"}, \"yaxis\": {\"backgroundcolor\": \"#E5ECF6\", \"gridcolor\": \"white\", \"gridwidth\": 2, \"linecolor\": \"white\", \"showbackground\": true, \"ticks\": \"\", \"zerolinecolor\": \"white\"}, \"zaxis\": {\"backgroundcolor\": \"#E5ECF6\", \"gridcolor\": \"white\", \"gridwidth\": 2, \"linecolor\": \"white\", \"showbackground\": true, \"ticks\": \"\", \"zerolinecolor\": \"white\"}}, \"shapedefaults\": {\"line\": {\"color\": \"#2a3f5f\"}}, \"ternary\": {\"aaxis\": {\"gridcolor\": \"white\", \"linecolor\": \"white\", \"ticks\": \"\"}, \"baxis\": {\"gridcolor\": \"white\", \"linecolor\": \"white\", \"ticks\": \"\"}, \"bgcolor\": \"#E5ECF6\", \"caxis\": {\"gridcolor\": \"white\", \"linecolor\": \"white\", \"ticks\": \"\"}}, \"title\": {\"x\": 0.05}, \"xaxis\": {\"automargin\": true, \"gridcolor\": \"white\", \"linecolor\": \"white\", \"ticks\": \"\", \"title\": {\"standoff\": 15}, \"zerolinecolor\": \"white\", \"zerolinewidth\": 2}, \"yaxis\": {\"automargin\": true, \"gridcolor\": \"white\", \"linecolor\": \"white\", \"ticks\": \"\", \"title\": {\"standoff\": 15}, \"zerolinecolor\": \"white\", \"zerolinewidth\": 2}}}, \"title\": {\"text\": \"Energy forecast for 2050<br>Source: Department of Energy & Climate Change, Tom Counsell via <a href='https://bost.ocks.org/mike/sankey/'>Mike Bostock</a>\"}},\n",
              "                        {\"responsive\": true}\n",
              "                    ).then(function(){\n",
              "                            \n",
              "var gd = document.getElementById('b3f592bb-7607-4921-b133-c248d603a9de');\n",
              "var x = new MutationObserver(function (mutations, observer) {{\n",
              "        var display = window.getComputedStyle(gd).display;\n",
              "        if (!display || display === 'none') {{\n",
              "            console.log([gd, 'removed!']);\n",
              "            Plotly.purge(gd);\n",
              "            observer.disconnect();\n",
              "        }}\n",
              "}});\n",
              "\n",
              "// Listen for the removal of the full notebook cells\n",
              "var notebookContainer = gd.closest('#notebook-container');\n",
              "if (notebookContainer) {{\n",
              "    x.observe(notebookContainer, {childList: true});\n",
              "}}\n",
              "\n",
              "// Listen for the clearing of the current output cell\n",
              "var outputEl = gd.closest('.output');\n",
              "if (outputEl) {{\n",
              "    x.observe(outputEl, {childList: true});\n",
              "}}\n",
              "\n",
              "                        })\n",
              "                };\n",
              "                \n",
              "            </script>\n",
              "        </div>\n",
              "</body>\n",
              "</html>"
            ]
          },
          "metadata": {}
        }
      ]
    }
  ]
}