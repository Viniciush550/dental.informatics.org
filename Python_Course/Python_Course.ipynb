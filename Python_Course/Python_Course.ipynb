{
  "nbformat": 4,
  "nbformat_minor": 0,
  "metadata": {
    "colab": {
      "name": "Python_Course.ipynb",
      "provenance": [],
      "include_colab_link": true
    },
    "kernelspec": {
      "name": "python3",
      "display_name": "Python 3"
    },
    "language_info": {
      "name": "python"
    }
  },
  "cells": [
    {
      "cell_type": "markdown",
      "metadata": {
        "id": "view-in-github",
        "colab_type": "text"
      },
      "source": [
        "<a href=\"https://colab.research.google.com/github/dental-informatics-org/dental.informatics.org/blob/main/Python_Course/Python_Course.ipynb\" target=\"_parent\"><img src=\"https://colab.research.google.com/assets/colab-badge.svg\" alt=\"Open In Colab\"/></a>"
      ]
    },
    {
      "cell_type": "markdown",
      "metadata": {
        "id": "KaojVpTnM6aw"
      },
      "source": [
        "# MarkDown Examples\n",
        "---\n",
        "\n",
        "\n",
        "[Make a README](https://www.makeareadme.com/)"
      ]
    },
    {
      "cell_type": "markdown",
      "metadata": {
        "id": "vJQMTJKPNW4U"
      },
      "source": [
        "# References\n",
        "---\n",
        "- [Python Tutorial - Tutorials Point](https://www.tutorialspoint.com/python/index.htm)\n",
        "- [Python Tutorial - W3](https://www.w3schools.com/python/default.asp)\n"
      ]
    },
    {
      "cell_type": "markdown",
      "metadata": {
        "id": "z_bo8IkF_oH0"
      },
      "source": [
        "# Python - Basic Syntax\n",
        "The Python language has many similarities to Perl, C, and Java. However, there are some definite differences between the languages.\n",
        "\n",
        "### First Python Program\n",
        "Let us execute programs in different modes of programming.\n",
        "- Interactive Mode Programming\n",
        "- Script Mode Programming\n",
        "\n",
        "```python\n",
        "print('test')\n",
        "```\n",
        "\n",
        "```\n",
        "meu teste\n",
        "```\n",
        "\n",
        "\n",
        "\n"
      ]
    },
    {
      "cell_type": "code",
      "metadata": {
        "id": "pj5sP6QlLNaz",
        "colab": {
          "base_uri": "https://localhost:8080/"
        },
        "outputId": "23feaa17-0d74-4778-8616-6cec1384920e"
      },
      "source": [
        "print('test')"
      ],
      "execution_count": null,
      "outputs": [
        {
          "output_type": "stream",
          "name": "stdout",
          "text": [
            "test\n"
          ]
        }
      ]
    },
    {
      "cell_type": "code",
      "metadata": {
        "colab": {
          "base_uri": "https://localhost:8080/"
        },
        "id": "3jECFDPHADQB",
        "outputId": "6b1c3abe-bafb-4909-dd4c-8e298e725829"
      },
      "source": [
        "print(\"Hello, Dental surgeons!\")"
      ],
      "execution_count": null,
      "outputs": [
        {
          "output_type": "stream",
          "name": "stdout",
          "text": [
            "Hello, Dental surgeons!\n"
          ]
        }
      ]
    },
    {
      "cell_type": "code",
      "metadata": {
        "id": "0oJKr2I1OCar",
        "outputId": "ffe9df6b-50be-4080-9d4a-934a028c8469",
        "colab": {
          "base_uri": "https://localhost:8080/"
        }
      },
      "source": [
        "print('Hello Dentists Lets go to programming !!!')"
      ],
      "execution_count": 2,
      "outputs": [
        {
          "output_type": "stream",
          "name": "stdout",
          "text": [
            "Hello Dentists Lets go to programming !!!\n"
          ]
        }
      ]
    }
  ]
}