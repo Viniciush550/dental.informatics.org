{
  "nbformat": 4,
  "nbformat_minor": 0,
  "metadata": {
    "colab": {
      "name": "Python_Course.ipynb",
      "provenance": [],
      "include_colab_link": true
    },
    "kernelspec": {
      "name": "python3",
      "display_name": "Python 3"
    },
    "language_info": {
      "name": "python"
    }
  },
  "cells": [
    {
      "cell_type": "markdown",
      "metadata": {
        "id": "view-in-github",
        "colab_type": "text"
      },
      "source": [
        "<a href=\"https://colab.research.google.com/github/dental-informatics-org/dental.informatics.org/blob/main/Python_Course/Python_Course.ipynb\" target=\"_parent\"><img src=\"https://colab.research.google.com/assets/colab-badge.svg\" alt=\"Open In Colab\"/></a>"
      ]
    },
    {
      "cell_type": "markdown",
      "metadata": {
        "id": "z_bo8IkF_oH0"
      },
      "source": [
        "# Python - Basic Syntax\n",
        "The Python language has many similarities to Perl, C, and Java. However, there are some definite differences between the languages.\n",
        "\n",
        "### First Python Program\n",
        "Let us execute programs in different modes of programming.\n",
        "- Interactive Mode Programming\n",
        "- Script Mode Programming\n",
        "\n"
      ]
    },
    {
      "cell_type": "code",
      "metadata": {
        "colab": {
          "base_uri": "https://localhost:8080/"
        },
        "id": "3jECFDPHADQB",
        "outputId": "6b1c3abe-bafb-4909-dd4c-8e298e725829"
      },
      "source": [
        "print(\"Hello, Dental surgeons!\")"
      ],
      "execution_count": 1,
      "outputs": [
        {
          "output_type": "stream",
          "name": "stdout",
          "text": [
            "Hello, Dental surgeons!\n"
          ]
        }
      ]
    }
  ]
}