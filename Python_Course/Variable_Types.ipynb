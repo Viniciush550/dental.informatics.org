{
  "nbformat": 4,
  "nbformat_minor": 0,
  "metadata": {
    "colab": {
      "name": "Variable_Types.ipynb",
      "provenance": [],
      "authorship_tag": "ABX9TyNzG82pET3Gi8Ey6b31W3pH",
      "include_colab_link": true
    },
    "kernelspec": {
      "name": "python3",
      "display_name": "Python 3"
    },
    "language_info": {
      "name": "python"
    }
  },
  "cells": [
    {
      "cell_type": "markdown",
      "metadata": {
        "id": "view-in-github",
        "colab_type": "text"
      },
      "source": [
        "<a href=\"https://colab.research.google.com/github/dental-informatics-org/dental.informatics.org/blob/main/Python_Course/Variable_Types.ipynb\" target=\"_parent\"><img src=\"https://colab.research.google.com/assets/colab-badge.svg\" alt=\"Open In Colab\"/></a>"
      ]
    },
    {
      "cell_type": "markdown",
      "metadata": {
        "id": "xJWOetisNt_q"
      },
      "source": [
        "\n",
        "\n",
        "[LINK](https://www.tutorialspoint.com/python/python_variable_types.htm)\n",
        "\n",
        "# Variable Types\n",
        "---\n",
        "\n",
        "Variables are nothing but reserved memory locations to store values. This means that when you create a variable you reserve some space in memory.\n",
        "\n",
        "Based on the data type of a variable, the interpreter allocates memory and decides what can be stored in the reserved memory. Therefore, by assigning different data types to variables, you can store integers, decimals or characters in these variables.\n",
        "\n",
        "Assigning Values to Variables\n",
        "Python variables do not need explicit declaration to reserve memory space. The declaration happens automatically when you assign a value to a variable. The equal sign (=) is used to assign values to variables.\n",
        "\n",
        "The operand to the left of the = operator is the name of the variable and the operand to the right of the = operator is the value stored in the variable. For example −\n"
      ]
    },
    {
      "cell_type": "code",
      "metadata": {
        "id": "b2-2G_1FNmlb"
      },
      "source": [
        ""
      ],
      "execution_count": null,
      "outputs": []
    }
  ]
}